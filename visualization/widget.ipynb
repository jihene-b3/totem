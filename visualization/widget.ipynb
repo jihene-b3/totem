{
 "cells": [
  {
   "cell_type": "code",
   "execution_count": 37,
   "metadata": {},
   "outputs": [],
   "source": [
    "%matplotlib widget\n",
    "import ipywidgets as widgets\n",
    "import matplotlib.pyplot as plt\n",
    "from datetime import datetime\n",
    "import data\n",
    "import collections"
   ]
  },
  {
   "cell_type": "code",
   "execution_count": 38,
   "metadata": {
    "pycharm": {
     "name": "#%%\n"
    }
   },
   "outputs": [],
   "source": [
    "data = {\n",
    "    \"Berracasa\": data.data_extractor.extract_data_from_url(\"https://data.montpellier3m.fr/sites/default/files/ressources/MMM_EcoCompt_X2H19070220_archive.json\", \"intensity\", \"dateObserved\", \"location\"),\n",
    "    \"Lavérune\": data.data_extractor.extract_data_from_url(\"https://data.montpellier3m.fr/sites/default/files/ressources/MMM_EcoCompt_X2H20042632_archive.json\", \"intensity\", \"dateObserved\", \"location\"),\n",
    "    \"Celleneuve\": data.data_extractor.extract_data_from_url(\"https://data.montpellier3m.fr/sites/default/files/ressources/MMM_EcoCompt_X2H20042633_archive.json\", \"intensity\", \"dateObserved\", \"location\"),\n",
    "    \"Lattes 2\": data.data_extractor.extract_data_from_url(\"https://data.montpellier3m.fr/sites/default/files/ressources/MMM_EcoCompt_X2H20042634_archive.json\", \"intensity\", \"dateObserved\", \"location\"),\n",
    "    \"Lattes 1\": data.data_extractor.extract_data_from_url(\"https://data.montpellier3m.fr/sites/default/files/ressources/MMM_EcoCompt_X2H20042635_archive.json\", \"intensity\", \"dateObserved\", \"location\"),\n",
    "    \"Vieille-Poste\": data.data_extractor.extract_data_from_url(\"https://data.montpellier3m.fr/sites/default/files/ressources/MMM_EcoCompt_X2H20063161_archive.json\", \"intensity\", \"dateObserved\", \"location\"),\n",
    "    \"Gerhardt\": data.data_extractor.extract_data_from_url(\"https://data.montpellier3m.fr/sites/default/files/ressources/MMM_EcoCompt_X2H20063162_archive.json\", \"intensity\", \"dateObserved\", \"location\"),\n",
    "    \"Delmas 1\": data.data_extractor.extract_data_from_url(\"https://data.montpellier3m.fr/sites/default/files/ressources/MMM_EcoCompt_XTH19101158_archive.json\", \"intensity\", \"dateObserved\", \"location\"),\n",
    "    \"Delmas 2\": data.data_extractor.extract_data_from_url(\"https://data.montpellier3m.fr/sites/default/files/ressources/MMM_EcoCompt_X2H20063163_archive.json\", \"intensity\", \"dateObserved\", \"location\"),\n",
    "    \"Albert 1er\": data.data_extractor.extract_data_from_url(\"https://data.montpellier3m.fr/sites/default/files/ressources/MMM_EcoCompt_X2H20063164_archive.json\", \"intensity\", \"dateObserved\", \"location\")\n",
    "}\n",
    "\n",
    "def intensity_by_date():\n",
    "    result = collections.OrderedDict()\n",
    "    for key in data.keys():\n",
    "        for entry in data[key]:\n",
    "            # 2020-12-17 uniquement par les heures et minutes\n",
    "            dateNumber = entry[\"dateObserved\"].split(\n",
    "                \"/\")[0].split(\"T\")[0].replace(\"-\", \"\")\n",
    "            # si result ne contient pas la date, alors j'ajoute un nouveau dictionnaire\n",
    "            # sinon, j'ajoute au dictionnaire de la date, l'intensité pour la key\n",
    "            if dateNumber in result:\n",
    "                result[dateNumber][key] = entry[\"intensity\"]\n",
    "            else:\n",
    "                result[dateNumber] = {\n",
    "                    key: entry[\"intensity\"]\n",
    "                }\n",
    "    return result"
   ]
  },
  {
   "cell_type": "code",
   "execution_count": 39,
   "metadata": {
    "pycharm": {
     "name": "#%%\n"
    }
   },
   "outputs": [
    {
     "data": {
      "application/vnd.jupyter.widget-view+json": {
       "model_id": "ff5d09ea344d47d2a20a94bcd3440401",
       "version_major": 2,
       "version_minor": 0
      },
      "text/plain": [
       "Canvas(toolbar=Toolbar(toolitems=[('Home', 'Reset original view', 'home', 'home'), ('Back', 'Back to previous …"
      ]
     },
     "metadata": {},
     "output_type": "display_data"
    }
   ],
   "source": [
    "intensity_date = intensity_by_date()\n",
    "dates = []\n",
    "for date in list(intensity_date.keys()):\n",
    "    dates.append(datetime.strptime(str(date), \"%Y%m%d\"))\n",
    "\n",
    "\n",
    "# set up plot\n",
    "fig, ax = plt.subplots(figsize=(14 , 10))"
   ]
  },
  {
   "cell_type": "code",
   "execution_count": 40,
   "metadata": {
    "pycharm": {
     "is_executing": true,
     "name": "#%%\n"
    }
   },
   "outputs": [
    {
     "data": {
      "application/vnd.jupyter.widget-view+json": {
       "model_id": "81d45ebf6f914e519d9a45cced627a80",
       "version_major": 2,
       "version_minor": 0
      },
      "text/plain": [
       "interactive(children=(Dropdown(description='key', options=('Berracasa', 'Lavérune', 'Celleneuve', 'Lattes 2', …"
      ]
     },
     "metadata": {},
     "output_type": "display_data"
    }
   ],
   "source": [
    "def draw_graph(key):\n",
    "    values = []\n",
    "    for date in list(intensity_date.keys()):\n",
    "        if key in intensity_date[date]:\n",
    "            values.append(intensity_date[date][key])\n",
    "        else:\n",
    "            values.append(None)\n",
    "    [l.remove() for l in ax.lines]\n",
    "\n",
    "    ax.plot_date(y=values, x=dates, xdate=True, label=key)\n",
    "\n",
    "widgets.interact(draw_graph, key=data.keys());\n",
    "\n"
   ]
  },
  {
   "cell_type": "code",
   "execution_count": null,
   "metadata": {},
   "outputs": [],
   "source": []
  }
 ],
 "metadata": {
  "kernelspec": {
   "display_name": "Python 3",
   "language": "python",
   "name": "python3"
  },
  "language_info": {
   "codemirror_mode": {
    "name": "ipython",
    "version": 3
   },
   "file_extension": ".py",
   "mimetype": "text/x-python",
   "name": "python",
   "nbconvert_exporter": "python",
   "pygments_lexer": "ipython3",
   "version": "3.7.7"
  }
 },
 "nbformat": 4,
 "nbformat_minor": 1
}
