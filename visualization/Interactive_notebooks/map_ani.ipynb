{
 "metadata": {
  "language_info": {
   "codemirror_mode": {
    "name": "ipython",
    "version": 3
   },
   "file_extension": ".py",
   "mimetype": "text/x-python",
   "name": "python",
   "nbconvert_exporter": "python",
   "pygments_lexer": "ipython3",
   "version": "3.8.5"
  },
  "orig_nbformat": 2,
  "kernelspec": {
   "name": "python385jvsc74a57bd07c10ff5701c243593988c919f4af877546b3ef1a827da3349ba4fbe67cdfcf75",
   "display_name": "Python 3.8.5 64-bit ('base': conda)"
  }
 },
 "nbformat": 4,
 "nbformat_minor": 2,
 "cells": [
  {
   "source": [
    "## GIF ANIMATION\n"
   ],
   "cell_type": "markdown",
   "metadata": {}
  },
  {
   "source": [
    "Download packages "
   ],
   "cell_type": "markdown",
   "metadata": {}
  },
  {
   "cell_type": "code",
   "execution_count": 39,
   "metadata": {},
   "outputs": [],
   "source": [
    "import data \n",
    "import utils\n",
    "import output\n",
    "import map\n",
    "from map.marker import mark_circles_on_map\n",
    "import folium\n",
    "import collections\n",
    "from os import makedirs\n",
    "from os.path import isdir\n",
    "from selenium import webdriver\n",
    "from selenium.webdriver import Firefox\n",
    "import collections\n",
    "from selenium import webdriver\n",
    "browser = webdriver.Firefox()\n",
    "\n"
   ]
  },
  {
   "source": [
    "Exreact data\n"
   ],
   "cell_type": "markdown",
   "metadata": {}
  },
  {
   "cell_type": "code",
   "execution_count": 40,
   "metadata": {},
   "outputs": [],
   "source": [
    "\n",
    "# continue using the driver as usual.\n",
    "\n",
    "data = {\n",
    "    \"Berracasa\": data.data_extractor.extract_data_from_url(\"https://data.montpellier3m.fr/sites/default/files/ressources/MMM_EcoCompt_X2H19070220_archive.json\", \"intensity\", \"dateObserved\", \"location\"),\n",
    "    \"Lavérune\": data.data_extractor.extract_data_from_url(\"https://data.montpellier3m.fr/sites/default/files/ressources/MMM_EcoCompt_X2H20042632_archive.json\", \"intensity\", \"dateObserved\", \"location\"),\n",
    "    \"Celleneuve\": data.data_extractor.extract_data_from_url(\"https://data.montpellier3m.fr/sites/default/files/ressources/MMM_EcoCompt_X2H20042633_archive.json\", \"intensity\", \"dateObserved\", \"location\"),\n",
    "    \"Lattes 2\": data.data_extractor.extract_data_from_url(\"https://data.montpellier3m.fr/sites/default/files/ressources/MMM_EcoCompt_X2H20042634_archive.json\", \"intensity\", \"dateObserved\", \"location\"),\n",
    "    \"Lattes 1\": data.data_extractor.extract_data_from_url(\"https://data.montpellier3m.fr/sites/default/files/ressources/MMM_EcoCompt_X2H20042635_archive.json\", \"intensity\", \"dateObserved\", \"location\"),\n",
    "    \"Vieille-Poste\": data.data_extractor.extract_data_from_url(\"https://data.montpellier3m.fr/sites/default/files/ressources/MMM_EcoCompt_X2H20063161_archive.json\", \"intensity\", \"dateObserved\", \"location\"),\n",
    "    \"Gerhardt\": data.data_extractor.extract_data_from_url(\"https://data.montpellier3m.fr/sites/default/files/ressources/MMM_EcoCompt_X2H20063162_archive.json\", \"intensity\", \"dateObserved\", \"location\"),\n",
    "    \"Delmas 1\": data.data_extractor.extract_data_from_url(\"https://data.montpellier3m.fr/sites/default/files/ressources/MMM_EcoCompt_XTH19101158_archive.json\", \"intensity\", \"dateObserved\", \"location\"),\n",
    "    \"Delmas 2\": data.data_extractor.extract_data_from_url(\"https://data.montpellier3m.fr/sites/default/files/ressources/MMM_EcoCompt_X2H20063163_archive.json\", \"intensity\", \"dateObserved\", \"location\"),\n",
    "    \"Albert 1er\": data.data_extractor.extract_data_from_url(\"https://data.montpellier3m.fr/sites/default/files/ressources/MMM_EcoCompt_X2H20063164_archive.json\", \"intensity\", \"dateObserved\", \"location\")\n",
    "}"
   ]
  },
  {
   "cell_type": "code",
   "execution_count": 41,
   "metadata": {},
   "outputs": [],
   "source": [
    "def data_locations():\n",
    "    '''\n",
    "    '''\n",
    "    result = {}\n",
    "    for key in data.keys():\n",
    "        result[key] = (data[key][0][\"location\"][\"coordinates\"][1],\n",
    "                       data[key][0][\"location\"][\"coordinates\"][0])\n",
    "    return result"
   ]
  },
  {
   "cell_type": "code",
   "execution_count": 42,
   "metadata": {},
   "outputs": [],
   "source": [
    "def intensity_by_date():\n",
    "    '''\n",
    "    '''\n",
    "    result = collections.OrderedDict()\n",
    "    for key in data.keys():\n",
    "        for entry in data[key]:\n",
    "            # 2020-12-17 uniquement pas les heures et minutes\n",
    "            dateNumber = entry[\"dateObserved\"].split(\n",
    "                \"/\")[0].split(\"T\")[0].replace(\"-\", \"\")\n",
    "            # si result ne contient pas la date, alors j'ajoute un nouveau dictionnaire\n",
    "            # sinon, j'ajoute au dictionnaire de la date, l'intensité pour la key\n",
    "            if dateNumber in result:\n",
    "                result[dateNumber][key] = entry[\"intensity\"]\n",
    "            else:\n",
    "                result[dateNumber] = {\n",
    "                    key: entry[\"intensity\"]\n",
    "                }\n",
    "    return result"
   ]
  },
  {
   "cell_type": "code",
   "execution_count": 43,
   "metadata": {},
   "outputs": [],
   "source": [
    "#create a base map\r\n",
    "Montpelier = [43.6112, 3.8767]\r\n",
    "data_locations = data_locations()"
   ]
  },
  {
   "cell_type": "code",
   "execution_count": 44,
   "metadata": {},
   "outputs": [],
   "source": [
    "# grouper les données par dates\n",
    "intensity_date = intensity_by_date()\n",
    "# pour chaque date, créer une map à partir des données\n",
    "Maps = []\n",
    "for date in list(intensity_date.keys()):\n",
    "    Map = folium.Map(location=Montpelier, zoom_start=12,\n",
    "                     tiles=\"CartoDB positron\")\n",
    "    map.marker.mark_circles_on_map(\n",
    "        Map, data_locations, intensity_date[date], 0.10, '#81D8D0')\n",
    "    Maps.append(\n",
    "        (Map, date+\"-map.html\")\n",
    "    )\n",
    "\n",
    "destination = \"output/htmls\"\n",
    "if not isdir(destination):\n",
    "    makedirs(destination)\n",
    "\n",
    "# générer une page html pour chaque map\n",
    "for Map in Maps:\n",
    "    Map[0].save(destination+\"/\"+Map[1])\n",
    "    \n",
    "# générer des png pour chaque page html\n",
    "utils.generate_pngs_from_htmls(\"output/htmls\", \"output/pngs\", 1)\n",
    "\n",
    "# générer un gif à partir de png\n",
    "utils.generate_gif_from_pngs(\"output/pngs\", \"output/gif/animation.gif\", 3)"
   ]
  },
  {
   "cell_type": "code",
   "execution_count": 48,
   "metadata": {},
   "outputs": [
    {
     "output_type": "execute_result",
     "data": {
      "text/plain": [
       "<IPython.core.display.HTML object>"
      ],
      "text/html": "<img src=\"visualization//output//gif//animation/giphy.gif\">"
     },
     "metadata": {},
     "execution_count": 48
    }
   ],
   "source": [
    "from IPython.display import HTML\n",
    "HTML('<img src=\"visualization//output//gif//animation/giphy.gif\">')"
   ]
  },
  {
   "cell_type": "code",
   "execution_count": null,
   "metadata": {},
   "outputs": [],
   "source": []
  }
 ]
}